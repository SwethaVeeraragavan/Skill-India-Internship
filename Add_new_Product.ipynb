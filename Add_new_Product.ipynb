{
  "nbformat": 4,
  "nbformat_minor": 0,
  "metadata": {
    "colab": {
      "name": "Add_new Product.ipynb",
      "provenance": []
    },
    "kernelspec": {
      "name": "python3",
      "display_name": "Python 3"
    },
    "language_info": {
      "name": "python"
    }
  },
  "cells": [
    {
      "cell_type": "code",
      "metadata": {
        "id": "lutCtriJ24pK"
      },
      "source": [
        "import json\n",
        "fd = open(\"records.json\",'r')\n",
        "r = fd.read()\n",
        "fd.close()\n",
        "record = json.loads(r)"
      ],
      "execution_count": null,
      "outputs": []
    },
    {
      "cell_type": "markdown",
      "metadata": {
        "id": "d-x2J_aM3FFa"
      },
      "source": [
        "Uploading records from **JSON**"
      ]
    },
    {
      "cell_type": "markdown",
      "metadata": {
        "id": "fF6-Jkll3URS"
      },
      "source": [
        "**Adding new elements in the record**"
      ]
    },
    {
      "cell_type": "code",
      "metadata": {
        "id": "6HyiSBF43c_2"
      },
      "source": [
        "import json\n",
        "fd = open(\"records.json\",'r')\n",
        "r = fd.read()\n",
        "fd.close()\n",
        "record = json.loads(r)\n",
        "\n",
        "prod_id = str(input(\"Enter product id:\"))\n",
        "name = str(input(\"Enter name:\"))\n",
        "pr = int(input(\"Enter price:\"))\n",
        "qn = int(input(\"Enter quantity:\"))\n",
        "mr = str(input(\"Enter Manufacturer: \"))\n",
        "\n",
        "if prod_id in record.keys():\n",
        "    record[prod_id][\"Quantity\"] += qn\n",
        "    print(\"Successfully updated!!!\")\n",
        "else:\n",
        "    record[prod_id] = {'Name': name, 'Price': pr, 'Quantity': qn, 'Manufacturer': mr}\n",
        "    print(\"Successfully added new Item!!!\")\n",
        "\n",
        "js = json.dumps(record)\n",
        "fd = open(\"records.json\",'w')\n",
        "fd.write(js)\n",
        "fd.close()"
      ],
      "execution_count": null,
      "outputs": []
    },
    {
      "cell_type": "markdown",
      "metadata": {
        "id": "hMmLFdQP3r9_"
      },
      "source": [
        "**Deleting elements from the record.**"
      ]
    },
    {
      "cell_type": "code",
      "metadata": {
        "id": "CMvbm3Ph3yfZ"
      },
      "source": [
        "import json\n",
        "fd = open(\"records.json\",'r')\n",
        "r = fd.read()\n",
        "fd.close()\n",
        "record = json.loads(r)\n",
        "\n",
        "delete_prod_id = str(input(\"Enter product id to be deleted: \"))\n",
        "if delete_prod_id in record.keys():\n",
        "    del record[delete_prod_id]\n",
        "    print(\"Successfully item deleted!!!\")\n",
        "else:\n",
        "    print(\"Item NOT found!!!\")\n",
        "\n",
        "js = json.dumps(record)\n",
        "fd = open(\"records.json\",'w')\n",
        "fd.write(js)\n",
        "fd.close()"
      ],
      "execution_count": null,
      "outputs": []
    }
  ]
}