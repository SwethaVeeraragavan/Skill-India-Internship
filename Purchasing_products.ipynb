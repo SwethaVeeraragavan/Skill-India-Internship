{
  "nbformat": 4,
  "nbformat_minor": 0,
  "metadata": {
    "colab": {
      "name": "Purchasing_products.ipynb",
      "provenance": [],
      "collapsed_sections": []
    },
    "kernelspec": {
      "name": "python3",
      "display_name": "Python 3"
    },
    "language_info": {
      "name": "python"
    }
  },
  "cells": [
    {
      "cell_type": "markdown",
      "metadata": {
        "id": "pzHvj1XL99Jm"
      },
      "source": [
        "**Updating records in JSON**"
      ]
    },
    {
      "cell_type": "code",
      "metadata": {
        "id": "QU2Ofyqx-FQF"
      },
      "source": [
        "import json\n",
        "\n",
        "fd = open(\"records.json\",'r')\n",
        "r = fd.read()\n",
        "fd.close()\n",
        "record = json.loads(r)"
      ],
      "execution_count": null,
      "outputs": []
    },
    {
      "cell_type": "markdown",
      "metadata": {
        "id": "cUh-aEQt-MmA"
      },
      "source": [
        "**Purchasing Product**"
      ]
    },
    {
      "cell_type": "code",
      "metadata": {
        "id": "ZBH6MLzv-ScP"
      },
      "source": [
        "import json\n",
        "fd = open(\"records.json\",'r')\n",
        "r = fd.read()\n",
        "fd.close()\n",
        "record = json.loads(r)\n",
        "ui_prod = str(input(\"Enter the product_Id: \"))\n",
        "ui_quant = int(input(\"Enter the quantity: \"))\n",
        "bill_amount = 0\n",
        "\n",
        "if ui_prod in record.keys():\n",
        "    if record[ui_prod]['Quantity'] < ui_quant:\n",
        "        print(\"Sorry, Product is insufficient. Availability: {}\".format(str(record[ui_prod]['Quantity'])))\n",
        "    elif record[ui_prod]['Quantity'] >= ui_quant:\n",
        "        record[ui_prod]['Quantity'] -= ui_quant\n",
        "        print(\"Product: \", record[ui_prod]['Name'])\n",
        "        print(\"Price: \", record[ui_prod]['Price'])\n",
        "        bill_amount += record[ui_prod]['Price'] * ui_quant\n",
        "        print(\"Billing Amount: \", bill_amount)\n",
        "else:\n",
        "    print(\"Sorry, Product was not found!!!\")\n",
        "\n"
      ],
      "execution_count": null,
      "outputs": []
    },
    {
      "cell_type": "markdown",
      "metadata": {
        "id": "I5RkXakI-ygD"
      },
      "source": [
        "**Updating record after purchasing**"
      ]
    },
    {
      "cell_type": "code",
      "metadata": {
        "id": "kOgTyE4h-hHt"
      },
      "source": [
        "js = json.dumps(record)\n",
        "fd = open(\"records.json\", 'w')\n",
        "fd.write(js)\n",
        "fd.close()"
      ],
      "execution_count": null,
      "outputs": []
    }
  ]
}